{
  "nbformat": 4,
  "nbformat_minor": 0,
  "metadata": {
    "colab": {
      "name": "prepare_nltk_data.ipynb",
      "provenance": [],
      "collapsed_sections": []
    },
    "kernelspec": {
      "name": "python3",
      "display_name": "Python 3"
    }
  },
  "cells": [
    {
      "cell_type": "markdown",
      "metadata": {
        "id": "4IoTja_5EHYO"
      },
      "source": [
        "# Prepare nltk training data for seq-gan"
      ]
    },
    {
      "cell_type": "code",
      "metadata": {
        "id": "dhwCeHRe_ne1"
      },
      "source": [
        "import json\n",
        "import nltk\n",
        "import numpy as np\n",
        "import pandas as pd\n",
        "\n",
        "from collections import Counter\n",
        "from nltk.corpus import movie_reviews"
      ],
      "execution_count": 1,
      "outputs": []
    },
    {
      "cell_type": "code",
      "metadata": {
        "id": "Ymqf-a9XBURh"
      },
      "source": [
        "# Params\n",
        "MAX_SENTENCE_LENGTH = 16\n",
        "VOCAB_SIZE = 5000\n",
        "TRAINING_EXAMPLES = 2000\n",
        "\n",
        "TRAIN_DATA_PATH = 'gan_train.txt'\n",
        "VOCAB_PATH = 'vocabulary.json'"
      ],
      "execution_count": 2,
      "outputs": []
    },
    {
      "cell_type": "code",
      "metadata": {
        "colab": {
          "base_uri": "https://localhost:8080/",
          "height": 176
        },
        "id": "2r0z_s9OBagW",
        "outputId": "196db4f2-889f-4dd2-b2b4-4a1edd2b948e"
      },
      "source": [
        "# Download nltk movie review dataset \n",
        "nltk.download('movie_reviews')\n",
        "review_data = [(movie_reviews.words(file_id),category) for file_id in movie_reviews.fileids() for category in movie_reviews.categories(file_id)]\n",
        "\n",
        "# Load dataset\n",
        "df = pd.DataFrame(review_data, columns=['review', 'sentimnet'])\n",
        "df = df[:TRAINING_EXAMPLES]\n",
        "df.tail(3)"
      ],
      "execution_count": 3,
      "outputs": [
        {
          "output_type": "stream",
          "text": [
            "[nltk_data] Downloading package movie_reviews to /root/nltk_data...\n",
            "[nltk_data]   Package movie_reviews is already up-to-date!\n"
          ],
          "name": "stdout"
        },
        {
          "output_type": "execute_result",
          "data": {
            "text/html": [
              "<div>\n",
              "<style scoped>\n",
              "    .dataframe tbody tr th:only-of-type {\n",
              "        vertical-align: middle;\n",
              "    }\n",
              "\n",
              "    .dataframe tbody tr th {\n",
              "        vertical-align: top;\n",
              "    }\n",
              "\n",
              "    .dataframe thead th {\n",
              "        text-align: right;\n",
              "    }\n",
              "</style>\n",
              "<table border=\"1\" class=\"dataframe\">\n",
              "  <thead>\n",
              "    <tr style=\"text-align: right;\">\n",
              "      <th></th>\n",
              "      <th>review</th>\n",
              "      <th>sentimnet</th>\n",
              "    </tr>\n",
              "  </thead>\n",
              "  <tbody>\n",
              "    <tr>\n",
              "      <th>1997</th>\n",
              "      <td>(glory, --, starring, matthew, broderick, ,, d...</td>\n",
              "      <td>pos</td>\n",
              "    </tr>\n",
              "    <tr>\n",
              "      <th>1998</th>\n",
              "      <td>(steven, spielberg, ', s, second, epic, film, ...</td>\n",
              "      <td>pos</td>\n",
              "    </tr>\n",
              "    <tr>\n",
              "      <th>1999</th>\n",
              "      <td>(truman, (, \", true, -, man, \", ), burbank, is...</td>\n",
              "      <td>pos</td>\n",
              "    </tr>\n",
              "  </tbody>\n",
              "</table>\n",
              "</div>"
            ],
            "text/plain": [
              "                                                 review sentimnet\n",
              "1997  (glory, --, starring, matthew, broderick, ,, d...       pos\n",
              "1998  (steven, spielberg, ', s, second, epic, film, ...       pos\n",
              "1999  (truman, (, \", true, -, man, \", ), burbank, is...       pos"
            ]
          },
          "metadata": {
            "tags": []
          },
          "execution_count": 3
        }
      ]
    },
    {
      "cell_type": "code",
      "metadata": {
        "id": "qh_0FIBcBehP"
      },
      "source": [
        "def preprocess(sentence, max_length): \n",
        "    tokens = sentence\n",
        "    # Pad to max_length\n",
        "    if len(tokens) < max_length:\n",
        "        tokens.extend([0] * (MAX_SENTENCE_LENGTH - len(tokens)))\n",
        "    # Crop to max_length\n",
        "    elif len(tokens) > max_length:\n",
        "        tokens = tokens[:max_length]\n",
        "    return tokens\n",
        "\n",
        "# Apply preprocessing\n",
        "df['processed'] = df['review'].apply(lambda s: preprocess(s, MAX_SENTENCE_LENGTH))"
      ],
      "execution_count": 4,
      "outputs": []
    },
    {
      "cell_type": "code",
      "metadata": {
        "colab": {
          "base_uri": "https://localhost:8080/",
          "height": 204
        },
        "id": "HftqfnD1B9gI",
        "outputId": "bc38de74-2774-406b-9d52-7dc309b31c7b"
      },
      "source": [
        "df.tail()"
      ],
      "execution_count": 5,
      "outputs": [
        {
          "output_type": "execute_result",
          "data": {
            "text/html": [
              "<div>\n",
              "<style scoped>\n",
              "    .dataframe tbody tr th:only-of-type {\n",
              "        vertical-align: middle;\n",
              "    }\n",
              "\n",
              "    .dataframe tbody tr th {\n",
              "        vertical-align: top;\n",
              "    }\n",
              "\n",
              "    .dataframe thead th {\n",
              "        text-align: right;\n",
              "    }\n",
              "</style>\n",
              "<table border=\"1\" class=\"dataframe\">\n",
              "  <thead>\n",
              "    <tr style=\"text-align: right;\">\n",
              "      <th></th>\n",
              "      <th>review</th>\n",
              "      <th>sentimnet</th>\n",
              "      <th>processed</th>\n",
              "    </tr>\n",
              "  </thead>\n",
              "  <tbody>\n",
              "    <tr>\n",
              "      <th>1995</th>\n",
              "      <td>(wow, !, what, a, movie, ., it, ', s, everythi...</td>\n",
              "      <td>pos</td>\n",
              "      <td>[wow, !, what, a, movie, ., it, ', s, everythi...</td>\n",
              "    </tr>\n",
              "    <tr>\n",
              "      <th>1996</th>\n",
              "      <td>(richard, gere, can, be, a, commanding, actor,...</td>\n",
              "      <td>pos</td>\n",
              "      <td>[richard, gere, can, be, a, commanding, actor,...</td>\n",
              "    </tr>\n",
              "    <tr>\n",
              "      <th>1997</th>\n",
              "      <td>(glory, --, starring, matthew, broderick, ,, d...</td>\n",
              "      <td>pos</td>\n",
              "      <td>[glory, --, starring, matthew, broderick, ,, d...</td>\n",
              "    </tr>\n",
              "    <tr>\n",
              "      <th>1998</th>\n",
              "      <td>(steven, spielberg, ', s, second, epic, film, ...</td>\n",
              "      <td>pos</td>\n",
              "      <td>[steven, spielberg, ', s, second, epic, film, ...</td>\n",
              "    </tr>\n",
              "    <tr>\n",
              "      <th>1999</th>\n",
              "      <td>(truman, (, \", true, -, man, \", ), burbank, is...</td>\n",
              "      <td>pos</td>\n",
              "      <td>[truman, (, \", true, -, man, \", ), burbank, is...</td>\n",
              "    </tr>\n",
              "  </tbody>\n",
              "</table>\n",
              "</div>"
            ],
            "text/plain": [
              "                                                 review  ...                                          processed\n",
              "1995  (wow, !, what, a, movie, ., it, ', s, everythi...  ...  [wow, !, what, a, movie, ., it, ', s, everythi...\n",
              "1996  (richard, gere, can, be, a, commanding, actor,...  ...  [richard, gere, can, be, a, commanding, actor,...\n",
              "1997  (glory, --, starring, matthew, broderick, ,, d...  ...  [glory, --, starring, matthew, broderick, ,, d...\n",
              "1998  (steven, spielberg, ', s, second, epic, film, ...  ...  [steven, spielberg, ', s, second, epic, film, ...\n",
              "1999  (truman, (, \", true, -, man, \", ), burbank, is...  ...  [truman, (, \", true, -, man, \", ), burbank, is...\n",
              "\n",
              "[5 rows x 3 columns]"
            ]
          },
          "metadata": {
            "tags": []
          },
          "execution_count": 5
        }
      ]
    },
    {
      "cell_type": "code",
      "metadata": {
        "id": "ffP9wTUiB8ch"
      },
      "source": [
        "# Create vocabulary, id of 0 = OOV. 10k most common\n",
        "all_tokens = [t for sent in df['processed'].tolist() for t in sent]\n",
        "counted = Counter(all_tokens).most_common(4999)\n",
        "vocabulary = {w[0]:i+1 for i, w in enumerate(counted)}\n",
        "vocabulary['<unk>'] = 0\n",
        "inverse_vocabulary = {v:k for k,v in vocabulary.items()}"
      ],
      "execution_count": 6,
      "outputs": []
    },
    {
      "cell_type": "code",
      "metadata": {
        "colab": {
          "base_uri": "https://localhost:8080/"
        },
        "id": "kNgNlwNdCQJ4",
        "outputId": "7b18feca-365b-433e-dcd2-098dc65ea2b7"
      },
      "source": [
        "# Convert to numpy array\n",
        "df['vector'] = df['processed'].apply(lambda x: [vocabulary.get(w, 0) for w in x])\n",
        "train_set = np.array(df['vector'].tolist())\n",
        "train_set.shape"
      ],
      "execution_count": 7,
      "outputs": [
        {
          "output_type": "execute_result",
          "data": {
            "text/plain": [
              "(2000, 16)"
            ]
          },
          "metadata": {
            "tags": []
          },
          "execution_count": 7
        }
      ]
    },
    {
      "cell_type": "code",
      "metadata": {
        "id": "vjpHO2IuCSSQ"
      },
      "source": [
        "# Save training set\n",
        "np.savetxt(TRAIN_DATA_PATH, train_set, fmt='%d')\n",
        "\n",
        "# Save vocabulary\n",
        "with open(VOCAB_PATH, 'w') as f:\n",
        "    json.dump(vocabulary, f)"
      ],
      "execution_count": 8,
      "outputs": []
    },
    {
      "cell_type": "code",
      "metadata": {
        "colab": {
          "base_uri": "https://localhost:8080/"
        },
        "id": "SJ8FhvuPCmYl",
        "outputId": "35ecdcc8-16d8-439a-a839-25eea953c3af"
      },
      "source": [
        "!head -5 gan_train.txt"
      ],
      "execution_count": 9,
      "outputs": [
        {
          "output_type": "stream",
          "text": [
            "67 16 71 653 2342 306 10 3 1454 552 2 2343 13 468 825 7\n",
            "1 169 240 5 12 469 20 44 654 15 2344 1455 7 17 5 12\n",
            "17 8 43 53 228 15 170 3 2345 20 553 2346 23 1 2347 4\n",
            "6 1033 23 2348 6 8 331 554 7 5 48 171 14 655 2 1034\n",
            "81 16 3 1456 2349 113 2350 2351 1457 3 202 39 3 2352 2353 1458\n"
          ],
          "name": "stdout"
        }
      ]
    }
  ]
}