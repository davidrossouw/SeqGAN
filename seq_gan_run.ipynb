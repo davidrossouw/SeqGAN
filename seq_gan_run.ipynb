{
  "nbformat": 4,
  "nbformat_minor": 0,
  "metadata": {
    "colab": {
      "name": "seq_gan_run.ipynb",
      "provenance": [],
      "collapsed_sections": []
    },
    "kernelspec": {
      "name": "python3",
      "display_name": "Python 3"
    },
    "accelerator": "GPU"
  },
  "cells": [
    {
      "cell_type": "markdown",
      "metadata": {
        "id": "9HfS9NnIZQjT"
      },
      "source": [
        "# Generate samples from a saved Generator model"
      ]
    },
    {
      "cell_type": "code",
      "metadata": {
        "colab": {
          "base_uri": "https://localhost:8080/"
        },
        "id": "530YZOpRK6zN",
        "outputId": "b2926c69-5af4-4cf0-8cdd-f3ae2824d8b1"
      },
      "source": [
        "import json\n",
        "import tensorflow_datasets as tfds\n",
        "from google.colab import drive\n",
        "\n",
        "drive.mount('/content/gdrive')"
      ],
      "execution_count": 9,
      "outputs": [
        {
          "output_type": "stream",
          "text": [
            "Drive already mounted at /content/gdrive; to attempt to forcibly remount, call drive.mount(\"/content/gdrive\", force_remount=True).\n"
          ],
          "name": "stdout"
        }
      ]
    },
    {
      "cell_type": "code",
      "metadata": {
        "colab": {
          "base_uri": "https://localhost:8080/"
        },
        "id": "eODCVbnVK_FD",
        "outputId": "635f8072-8298-40e1-92d7-a05a5da4f8c5"
      },
      "source": [
        "%cd gdrive/My Drive/github/SeqGAN/"
      ],
      "execution_count": 10,
      "outputs": [
        {
          "output_type": "stream",
          "text": [
            "[Errno 2] No such file or directory: 'gdrive/My Drive/github/SeqGAN/'\n",
            "/content/gdrive/My Drive/github/SeqGAN\n"
          ],
          "name": "stdout"
        }
      ]
    },
    {
      "cell_type": "code",
      "metadata": {
        "id": "qEPF6KAWLu8S"
      },
      "source": [
        "from generator import Generator"
      ],
      "execution_count": 11,
      "outputs": []
    },
    {
      "cell_type": "code",
      "metadata": {
        "id": "9oQEEuNugpBI"
      },
      "source": [
        "#########################################################################################\n",
        "#  Generator  Hyper-parameters\n",
        "######################################################################################\n",
        "VOCAB_SIZE = 5000\n",
        "EMB_DIM = 32 # embedding dimension\n",
        "HIDDEN_DIM = 32 # hidden state dimension of lstm cell\n",
        "SEQ_LENGTH = 16 # sequence length\n",
        "START_TOKEN = 0\n",
        "BATCH_SIZE = 64"
      ],
      "execution_count": 12,
      "outputs": []
    },
    {
      "cell_type": "code",
      "metadata": {
        "id": "4_vM008sgVdA"
      },
      "source": [
        "# Load model\n",
        "gen = Generator(VOCAB_SIZE, BATCH_SIZE, EMB_DIM, HIDDEN_DIM, SEQ_LENGTH, START_TOKEN)\n",
        "\n",
        "# Load weights\n",
        "gen.load(\"save/generator_100.h5\")\n",
        "\n",
        "# Load vocab\n",
        "with open('data/vocabulary.json', 'r') as f:\n",
        "    vocabulary = json.load(f)\n",
        "\n",
        "inverse_vocabulary = {v:k for k,v in vocabulary.items()}"
      ],
      "execution_count": 14,
      "outputs": []
    },
    {
      "cell_type": "code",
      "metadata": {
        "id": "qCk9HMECg6sH"
      },
      "source": [
        "# Generate samples\n",
        "generated_samples = gen.generate_one_batch()\n",
        "generated_samples = tfds.as_numpy(generated_samples)"
      ],
      "execution_count": 15,
      "outputs": []
    },
    {
      "cell_type": "code",
      "metadata": {
        "id": "fW82Kyo5g9OH",
        "colab": {
          "base_uri": "https://localhost:8080/"
        },
        "outputId": "1457cb07-6474-43cb-a10f-cef99e4f2502"
      },
      "source": [
        "# Show samples\n",
        "for sequence in generated_samples:\n",
        "  print(' '.join([inverse_vocabulary[i] for i in sequence]))"
      ],
      "execution_count": 17,
      "outputs": [
        {
          "output_type": "stream",
          "text": [
            "one of a complete glimpse out of the first karate story is absolutely totally inappropriate my\n",
            "stay cole box office leg wound stars for the entire animated horror comedy but the same\n",
            "this was a film maker in the time as an film that is by claude <unk>\n",
            "probably the book features bad to see this movie at all time and im trapped in\n",
            "when i am even as can that many things ever it should be <unk> about this\n",
            "i was looking for this show as this <unk> <unk> br i believe that i read\n",
            "the new day games the new minute special of this movie is good it didnt get\n",
            "fame can worst but have this was its all of the original the film starts out\n",
            "a kid closing is somewhat great book about people who gave the threat of this film\n",
            "race of everyone wind in the director <unk> the original <unk> was a story by all\n",
            "this was an excellent exercise in riding <unk> years ago they do even with action films\n",
            "this is an extra <unk> at the dvd for this movie since renting it at the\n",
            "<unk> is based on a <unk> named three nasty classic i didnt watch the music is\n",
            "<unk> is my favorite movie that which is bad its shown at his most of law\n",
            "an <unk> <unk> from my local tv series dvd this is an extra that i wanted\n",
            "an <unk> film made by everyone but this movie is say that is a serious film\n",
            "one wonders why you will say that this movie is i only all fire have to\n",
            "i first saw this in it on the uk my favorite tv <unk> movies and <unk>\n",
            "if it i was this look was in all the movie <unk> in glenn ford from\n",
            "this is a quick <unk> most tortured which is <unk> <unk> as an original and the\n",
            "i have a <unk> <unk> one of the worst i am not all of this i\n",
            "this is no garbage that <unk> the <unk> <unk> and <unk> <unk> br br br i\n",
            "loved the original <unk> is simply <unk> its listed as many people who tell the effects\n",
            "i saw another episode on a table and hard comment under one of everyone are a\n",
            "indian summer is i always hoped spoilers at time this <unk> fantastic <unk> and even its\n",
            "only again puts a back of this set by a terrible film just got a canadian\n",
            "<unk> of a story about all time after based on the 10 and early <unk> and\n",
            "this is a film maker and this <unk> was an excellent <unk> it was exceptional is\n",
            "1st first cast for everyone and i even found the dvd release after how passionate i\n",
            "fame can bother the original movies and <unk> on tv guide deal with this i loved\n",
            "a new inside some <unk> that has all the watch with <unk> it is in the\n",
            "fever sandler a major achievement to portray <unk> a film since im a basic only one\n",
            "this is a show it to even enjoy it unless the story is not so low\n",
            "is an ancient <unk> an van damme that surrounded would say about this film that i\n",
            "<unk> is a gang of <unk> it is in a <unk> to get to the movie\n",
            "this is based on the author that i would really enjoyed it as so i can\n",
            "yes they can understand what another production its inspiration on tv in every couple of this\n",
            "is an excellent job and really supposedly proved the book has happen but it was a\n",
            "i would give this that is an extra that bits of the most <unk> i have\n",
            "<unk> of adam days for it really i read all for the time that is its\n",
            "enterprise <unk> <unk> at first the likes of the time the original was one of the\n",
            "saw the supporting cast of the most other of <unk> movies that is good and i\n",
            "this is an art new crime two <unk> of a <unk> <unk> on the other three\n",
            "the was a lot of time this is a film into the other <unk> can he\n",
            "i have read <unk> time as a movies i watch if you need to watch out\n",
            "this is a pretty bad movie i am it spanish sequels i have an <unk> the\n",
            "appalling has some <unk> of the worst <unk> i really liked the film like bad this\n",
            "i really enjoyed this movie set in the casting as thus excellent as an first but\n",
            "anyone are unusual on the subtlety integrity movies and im an standard pleasure it is <unk>\n",
            "<unk> is for that the story has a movie for this movie has to watch the\n",
            "fame was an extra on the one of this movie as the other horror <unk> when\n",
            "an excellent excuse magazine and high soldier finds there that mine is not an excuse for\n",
            "this is the first of a few <unk> <unk> and high school which is a really\n",
            "this is an extra in twist the time of <unk> <unk> called this film by a\n",
            "fame is very much i was surprised that a <unk> only seem a fan of urban\n",
            "<unk> is exceptional the proper <unk> look at its original the <unk> takes us a lot\n",
            "this movie is like well in a time and earth called the way to the <unk>\n",
            "its one of the worst bit of a <unk> war film set in the new year\n",
            "the film starts out with her actions than an <unk> <unk> still get to watch br\n",
            "this was <unk> br i first saw a <unk> cast as it the only starting to\n",
            "i am had a very bad movie that i like a couple of fate puts all\n",
            "stay stupid high boat of danger by the exotic <unk> the <unk> in seeing this sure\n",
            "i liked this type of any time and then glad i read that i go out\n",
            "alone aint the timing was as bad that the only <unk> the <unk> of my really\n"
          ],
          "name": "stdout"
        }
      ]
    },
    {
      "cell_type": "code",
      "metadata": {
        "id": "sV6ZnX0ZVJmx"
      },
      "source": [],
      "execution_count": null,
      "outputs": []
    }
  ]
}